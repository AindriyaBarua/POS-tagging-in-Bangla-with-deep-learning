{
  "nbformat": 4,
  "nbformat_minor": 0,
  "metadata": {
    "kernelspec": {
      "display_name": "Python 3",
      "language": "python",
      "name": "python3"
    },
    "language_info": {
      "codemirror_mode": {
        "name": "ipython",
        "version": 3
      },
      "file_extension": ".py",
      "mimetype": "text/x-python",
      "name": "python",
      "nbconvert_exporter": "python",
      "pygments_lexer": "ipython3",
      "version": "3.5.2"
    },
    "colab": {
      "name": "RNN.ipynb",
      "provenance": []
    },
    "accelerator": "TPU"
  },
  "cells": [
    {
      "cell_type": "code",
      "metadata": {
        "id": "pA9oanYirn0Y"
      },
      "source": [
        "from __future__ import print_function\n",
        "\n",
        "import keras\n",
        "from keras.datasets import mnist\n",
        "from keras.models import Sequential\n",
        "from keras.layers import Dense, Activation\n",
        "from keras.layers import SimpleRNN\n",
        "from keras import initializers\n",
        "from tensorflow.keras.optimizers import RMSprop\n",
        "\n",
        "import numpy as np\n",
        "import gensim, logging\n",
        "from gensim.models import word2vec\n",
        "from sklearn import preprocessing\n",
        "from sklearn.model_selection import train_test_split\n",
        "from sklearn.metrics import accuracy_score\n",
        "from numpy.random import randint\n",
        "from numpy import argmax\n",
        "from keras.utils.np_utils import to_categorical\n",
        "\n",
        "from sklearn.metrics import f1_score, precision_score, recall_score"
      ],
      "execution_count": 38,
      "outputs": []
    },
    {
      "cell_type": "code",
      "metadata": {
        "id": "wFUsCG_qrn0i"
      },
      "source": [
        "batch_size = 32\n",
        "num_classes = 41\n",
        "epochs = 50\n",
        "hidden_units = 100"
      ],
      "execution_count": 39,
      "outputs": []
    },
    {
      "cell_type": "code",
      "metadata": {
        "id": "um6lC-xprn0l"
      },
      "source": [
        "\n",
        "learning_rate = 1e-6\n",
        "clip_norm = 1.0"
      ],
      "execution_count": 40,
      "outputs": []
    },
    {
      "cell_type": "code",
      "metadata": {
        "id": "zylh_6wgrn0m"
      },
      "source": [
        "with open(\"filtered.txt\",\"r\") as readfile:\n",
        "    types = [line.split(\"_\") for line in readfile]"
      ],
      "execution_count": 41,
      "outputs": []
    },
    {
      "cell_type": "code",
      "metadata": {
        "id": "lQUUL1pHrn0o"
      },
      "source": [
        "X=[]\n",
        "y=[]\n",
        "c=0\n",
        "#print (types)\n",
        "for i in range(len(types)):\n",
        "    X.append(types[i][0])\n",
        "    y.append(types[i][1])\n",
        "\n",
        "label = [k.strip(\"\\n\") for k in y]\n",
        "#print(label)\n",
        "X = [X]"
      ],
      "execution_count": 42,
      "outputs": []
    },
    {
      "cell_type": "code",
      "metadata": {
        "colab": {
          "base_uri": "https://localhost:8080/"
        },
        "id": "egq0wzh1rn0q",
        "outputId": "d9829e82-bd19-4b6b-e56a-b940f5059405"
      },
      "source": [
        "print(len(y))"
      ],
      "execution_count": 43,
      "outputs": [
        {
          "output_type": "stream",
          "name": "stdout",
          "text": [
            "52343\n"
          ]
        }
      ]
    },
    {
      "cell_type": "code",
      "metadata": {
        "id": "krrn8sKzrn0u"
      },
      "source": [
        "label = [k.strip(\"\\n\") for k in y]\n",
        "#print(label)"
      ],
      "execution_count": 44,
      "outputs": []
    },
    {
      "cell_type": "code",
      "metadata": {
        "id": "F-CH_ycVrn0v"
      },
      "source": [
        "model = gensim.models.Word2Vec(X, size=100, window=5, min_count=1, workers=4) #input shape=100"
      ],
      "execution_count": 45,
      "outputs": []
    },
    {
      "cell_type": "code",
      "metadata": {
        "colab": {
          "base_uri": "https://localhost:8080/"
        },
        "id": "PzrAMHOFrn0x",
        "outputId": "16f58b52-9359-468e-c029-9172e731cd00"
      },
      "source": [
        "len(set(label))"
      ],
      "execution_count": 46,
      "outputs": [
        {
          "output_type": "execute_result",
          "data": {
            "text/plain": [
              "13"
            ]
          },
          "metadata": {},
          "execution_count": 46
        }
      ]
    },
    {
      "cell_type": "code",
      "metadata": {
        "id": "OR5f2QyHrn01"
      },
      "source": [
        "m,n = np.shape(X)\n",
        "dataset = []\n",
        "for i in range(n):\n",
        "    dataset.append(model.wv[X[0][i]])\n"
      ],
      "execution_count": 47,
      "outputs": []
    },
    {
      "cell_type": "code",
      "metadata": {
        "id": "9nt6NNi8rn02"
      },
      "source": [
        "le = preprocessing.LabelEncoder()\n",
        "\n",
        "tags = le.fit(label)\n",
        "le.fit(label)\n",
        "\n",
        "tags=le.transform(label)"
      ],
      "execution_count": 48,
      "outputs": []
    },
    {
      "cell_type": "code",
      "metadata": {
        "id": "fF3RonEfrn05"
      },
      "source": [
        "X_train, X_test, y_train, y_test = train_test_split(dataset, tags, test_size=0.20, random_state=42)"
      ],
      "execution_count": 49,
      "outputs": []
    },
    {
      "cell_type": "code",
      "metadata": {
        "colab": {
          "base_uri": "https://localhost:8080/"
        },
        "id": "1fXBKjAKrn06",
        "outputId": "46b0ffc3-bd08-46dd-87aa-dd5159daa2ea"
      },
      "source": [
        "import numpy as np\n",
        "print(np.shape(X_train), np.shape(X_test), np.shape(y_train), np.shape(y_test))\n",
        "\n",
        "\n",
        "# In[30]:\n",
        "\n",
        "\n",
        "num_classes = len(set(label))"
      ],
      "execution_count": 51,
      "outputs": [
        {
          "output_type": "stream",
          "name": "stdout",
          "text": [
            "(41874, 100) (10469, 100) (41874,) (10469,)\n"
          ]
        }
      ]
    },
    {
      "cell_type": "code",
      "metadata": {
        "colab": {
          "base_uri": "https://localhost:8080/"
        },
        "id": "cBx69b7_rn07",
        "outputId": "b779c2be-d507-46db-efbc-7f32490bda01"
      },
      "source": [
        "X_train = np.stack(X_train, axis = 0)\n",
        "print(np.shape(X_train.shape[0]))\n",
        "X_test = np.stack(X_test, axis = 0)\n",
        "print(np.shape(X_test.shape[0]))\n",
        "X_train = X_train.reshape(X_train.shape[0], -1, 1)\n",
        "X_test = X_test.reshape(X_test.shape[0], -1, 1)\n",
        "X_train = X_train.astype('float32')\n",
        "X_test = X_test.astype('float32')\n",
        "X_train /= 255\n",
        "X_test /= 255\n",
        "print('X_train shape:', X_train.shape)\n",
        "print(X_train.shape[0], 'train samples')\n",
        "print(X_test.shape[0], 'test samples')"
      ],
      "execution_count": 52,
      "outputs": [
        {
          "output_type": "stream",
          "name": "stdout",
          "text": [
            "()\n",
            "()\n",
            "X_train shape: (41874, 100, 1)\n",
            "41874 train samples\n",
            "10469 test samples\n"
          ]
        }
      ]
    },
    {
      "cell_type": "code",
      "metadata": {
        "colab": {
          "base_uri": "https://localhost:8080/"
        },
        "id": "mGmSAx04rn08",
        "outputId": "28f06a02-799a-46cd-ac85-f918f78bee88"
      },
      "source": [
        "y_train = keras.utils.np_utils.to_categorical(y_train, num_classes)\n",
        "y_test = keras.utils.np_utils.to_categorical(y_test, num_classes)\n",
        "print(np.shape(X_train[0]))\n",
        "print(np.shape(X_test[0]))\n",
        "print(np.shape(y_test))\n",
        "print(np.shape(X_test))"
      ],
      "execution_count": 53,
      "outputs": [
        {
          "output_type": "stream",
          "name": "stdout",
          "text": [
            "(100, 1)\n",
            "(100, 1)\n",
            "(10469, 13)\n",
            "(10469, 100, 1)\n"
          ]
        }
      ]
    },
    {
      "cell_type": "code",
      "metadata": {
        "colab": {
          "base_uri": "https://localhost:8080/"
        },
        "id": "CbCRpCOYrn09",
        "outputId": "4b5ce8cb-f6b7-4b85-d502-72151f09ccb6"
      },
      "source": [
        "model = Sequential()\n",
        "model.add(SimpleRNN(hidden_units,\n",
        "                    kernel_initializer=initializers.RandomNormal(stddev=0.001),\n",
        "                    recurrent_initializer=initializers.Identity(gain=1.0),\n",
        "                    activation='tanh',\n",
        "                    input_shape=X_train.shape[1:]))\n",
        "model.add(Dense(num_classes))\n",
        "model.add(Activation('softmax'))\n",
        "rmsprop = RMSprop(lr=learning_rate)\n",
        "model.compile(loss='binary_crossentropy',\n",
        "              optimizer=rmsprop,\n",
        "              metrics=['accuracy'])"
      ],
      "execution_count": 54,
      "outputs": [
        {
          "output_type": "stream",
          "name": "stderr",
          "text": [
            "/usr/local/lib/python3.7/dist-packages/keras/optimizer_v2/optimizer_v2.py:356: UserWarning: The `lr` argument is deprecated, use `learning_rate` instead.\n",
            "  \"The `lr` argument is deprecated, use `learning_rate` instead.\")\n"
          ]
        }
      ]
    },
    {
      "cell_type": "code",
      "metadata": {
        "id": "kggHlDe2ymIO"
      },
      "source": [
        "y_test = y_test.reshape(y_test.shape[0], -1, 1)"
      ],
      "execution_count": 55,
      "outputs": []
    },
    {
      "cell_type": "code",
      "metadata": {
        "colab": {
          "base_uri": "https://localhost:8080/"
        },
        "id": "QLNJDhabrn0-",
        "outputId": "ac17405a-8c19-40e4-d7ba-4438e8592685"
      },
      "source": [
        "model.fit(X_train, y_train,\n",
        "          batch_size=batch_size,\n",
        "          epochs=epochs,\n",
        "          verbose=1,\n",
        "validation_data=(X_test, y_test))"
      ],
      "execution_count": 56,
      "outputs": [
        {
          "output_type": "stream",
          "name": "stdout",
          "text": [
            "Epoch 1/50\n",
            "1309/1309 [==============================] - 33s 25ms/step - loss: 0.3886 - accuracy: 0.4640 - val_loss: 0.2645 - val_accuracy: 0.5426\n",
            "Epoch 2/50\n",
            "1309/1309 [==============================] - 32s 24ms/step - loss: 0.2337 - accuracy: 0.5449 - val_loss: 0.2124 - val_accuracy: 0.5426\n",
            "Epoch 3/50\n",
            "1309/1309 [==============================] - 32s 24ms/step - loss: 0.1996 - accuracy: 0.5449 - val_loss: 0.1905 - val_accuracy: 0.5426\n",
            "Epoch 4/50\n",
            "1309/1309 [==============================] - 32s 24ms/step - loss: 0.1835 - accuracy: 0.5449 - val_loss: 0.1787 - val_accuracy: 0.5426\n",
            "Epoch 5/50\n",
            "1309/1309 [==============================] - 32s 24ms/step - loss: 0.1740 - accuracy: 0.5449 - val_loss: 0.1712 - val_accuracy: 0.5426\n",
            "Epoch 6/50\n",
            "1309/1309 [==============================] - 32s 24ms/step - loss: 0.1677 - accuracy: 0.5449 - val_loss: 0.1659 - val_accuracy: 0.5426\n",
            "Epoch 7/50\n",
            "1309/1309 [==============================] - 32s 24ms/step - loss: 0.1632 - accuracy: 0.5449 - val_loss: 0.1621 - val_accuracy: 0.5426\n",
            "Epoch 8/50\n",
            "1309/1309 [==============================] - 32s 24ms/step - loss: 0.1598 - accuracy: 0.5449 - val_loss: 0.1590 - val_accuracy: 0.5426\n",
            "Epoch 9/50\n",
            "1309/1309 [==============================] - 32s 25ms/step - loss: 0.1571 - accuracy: 0.5449 - val_loss: 0.1567 - val_accuracy: 0.5426\n",
            "Epoch 10/50\n",
            "1309/1309 [==============================] - 32s 24ms/step - loss: 0.1549 - accuracy: 0.5449 - val_loss: 0.1547 - val_accuracy: 0.5426\n",
            "Epoch 11/50\n",
            "1309/1309 [==============================] - 32s 24ms/step - loss: 0.1531 - accuracy: 0.5449 - val_loss: 0.1531 - val_accuracy: 0.5426\n",
            "Epoch 12/50\n",
            "1309/1309 [==============================] - 32s 25ms/step - loss: 0.1516 - accuracy: 0.5449 - val_loss: 0.1517 - val_accuracy: 0.5426\n",
            "Epoch 13/50\n",
            "1309/1309 [==============================] - 32s 25ms/step - loss: 0.1504 - accuracy: 0.5449 - val_loss: 0.1506 - val_accuracy: 0.5426\n",
            "Epoch 14/50\n",
            "1309/1309 [==============================] - 32s 24ms/step - loss: 0.1493 - accuracy: 0.5449 - val_loss: 0.1496 - val_accuracy: 0.5426\n",
            "Epoch 15/50\n",
            "1309/1309 [==============================] - 32s 24ms/step - loss: 0.1484 - accuracy: 0.5449 - val_loss: 0.1488 - val_accuracy: 0.5426\n",
            "Epoch 16/50\n",
            "1309/1309 [==============================] - 32s 24ms/step - loss: 0.1477 - accuracy: 0.5449 - val_loss: 0.1481 - val_accuracy: 0.5426\n",
            "Epoch 17/50\n",
            "1309/1309 [==============================] - 32s 24ms/step - loss: 0.1470 - accuracy: 0.5449 - val_loss: 0.1475 - val_accuracy: 0.5426\n",
            "Epoch 18/50\n",
            "1309/1309 [==============================] - 32s 24ms/step - loss: 0.1464 - accuracy: 0.5449 - val_loss: 0.1470 - val_accuracy: 0.5426\n",
            "Epoch 19/50\n",
            "1309/1309 [==============================] - 32s 24ms/step - loss: 0.1459 - accuracy: 0.5449 - val_loss: 0.1465 - val_accuracy: 0.5426\n",
            "Epoch 20/50\n",
            "1309/1309 [==============================] - 32s 24ms/step - loss: 0.1455 - accuracy: 0.5449 - val_loss: 0.1461 - val_accuracy: 0.5426\n",
            "Epoch 21/50\n",
            "1309/1309 [==============================] - 32s 24ms/step - loss: 0.1451 - accuracy: 0.5449 - val_loss: 0.1458 - val_accuracy: 0.5426\n",
            "Epoch 22/50\n",
            "1309/1309 [==============================] - 32s 24ms/step - loss: 0.1448 - accuracy: 0.5449 - val_loss: 0.1455 - val_accuracy: 0.5426\n",
            "Epoch 23/50\n",
            "1309/1309 [==============================] - 32s 24ms/step - loss: 0.1445 - accuracy: 0.5449 - val_loss: 0.1453 - val_accuracy: 0.5426\n",
            "Epoch 24/50\n",
            "1309/1309 [==============================] - 32s 24ms/step - loss: 0.1443 - accuracy: 0.5449 - val_loss: 0.1450 - val_accuracy: 0.5426\n",
            "Epoch 25/50\n",
            "1309/1309 [==============================] - 32s 24ms/step - loss: 0.1441 - accuracy: 0.5449 - val_loss: 0.1448 - val_accuracy: 0.5426\n",
            "Epoch 26/50\n",
            "1309/1309 [==============================] - 32s 25ms/step - loss: 0.1439 - accuracy: 0.5449 - val_loss: 0.1447 - val_accuracy: 0.5426\n",
            "Epoch 27/50\n",
            "1309/1309 [==============================] - 32s 24ms/step - loss: 0.1437 - accuracy: 0.5449 - val_loss: 0.1445 - val_accuracy: 0.5426\n",
            "Epoch 28/50\n",
            "1309/1309 [==============================] - 32s 24ms/step - loss: 0.1436 - accuracy: 0.5449 - val_loss: 0.1444 - val_accuracy: 0.5426\n",
            "Epoch 29/50\n",
            "1309/1309 [==============================] - 31s 24ms/step - loss: 0.1435 - accuracy: 0.5449 - val_loss: 0.1443 - val_accuracy: 0.5426\n",
            "Epoch 30/50\n",
            "1309/1309 [==============================] - 32s 24ms/step - loss: 0.1434 - accuracy: 0.5449 - val_loss: 0.1442 - val_accuracy: 0.5426\n",
            "Epoch 31/50\n",
            "1309/1309 [==============================] - 32s 25ms/step - loss: 0.1433 - accuracy: 0.5449 - val_loss: 0.1441 - val_accuracy: 0.5426\n",
            "Epoch 32/50\n",
            "1309/1309 [==============================] - 33s 25ms/step - loss: 0.1432 - accuracy: 0.5449 - val_loss: 0.1440 - val_accuracy: 0.5426\n",
            "Epoch 33/50\n",
            "1309/1309 [==============================] - 33s 25ms/step - loss: 0.1431 - accuracy: 0.5449 - val_loss: 0.1440 - val_accuracy: 0.5426\n",
            "Epoch 34/50\n",
            "1309/1309 [==============================] - 33s 25ms/step - loss: 0.1430 - accuracy: 0.5449 - val_loss: 0.1439 - val_accuracy: 0.5426\n",
            "Epoch 35/50\n",
            "1309/1309 [==============================] - 34s 26ms/step - loss: 0.1430 - accuracy: 0.5449 - val_loss: 0.1439 - val_accuracy: 0.5426\n",
            "Epoch 36/50\n",
            "1309/1309 [==============================] - 33s 25ms/step - loss: 0.1429 - accuracy: 0.5449 - val_loss: 0.1438 - val_accuracy: 0.5426\n",
            "Epoch 37/50\n",
            "1309/1309 [==============================] - 32s 25ms/step - loss: 0.1429 - accuracy: 0.5449 - val_loss: 0.1438 - val_accuracy: 0.5426\n",
            "Epoch 38/50\n",
            "1309/1309 [==============================] - 32s 25ms/step - loss: 0.1429 - accuracy: 0.5449 - val_loss: 0.1438 - val_accuracy: 0.5426\n",
            "Epoch 39/50\n",
            "1309/1309 [==============================] - 33s 25ms/step - loss: 0.1428 - accuracy: 0.5449 - val_loss: 0.1437 - val_accuracy: 0.5426\n",
            "Epoch 40/50\n",
            "1309/1309 [==============================] - 32s 25ms/step - loss: 0.1428 - accuracy: 0.5449 - val_loss: 0.1437 - val_accuracy: 0.5426\n",
            "Epoch 41/50\n",
            "1309/1309 [==============================] - 32s 25ms/step - loss: 0.1428 - accuracy: 0.5449 - val_loss: 0.1437 - val_accuracy: 0.5426\n",
            "Epoch 42/50\n",
            "1309/1309 [==============================] - 33s 25ms/step - loss: 0.1428 - accuracy: 0.5449 - val_loss: 0.1437 - val_accuracy: 0.5426\n",
            "Epoch 43/50\n",
            "1309/1309 [==============================] - 34s 26ms/step - loss: 0.1427 - accuracy: 0.5449 - val_loss: 0.1437 - val_accuracy: 0.5426\n",
            "Epoch 44/50\n",
            "1309/1309 [==============================] - 32s 25ms/step - loss: 0.1427 - accuracy: 0.5449 - val_loss: 0.1436 - val_accuracy: 0.5426\n",
            "Epoch 45/50\n",
            "1309/1309 [==============================] - 32s 25ms/step - loss: 0.1427 - accuracy: 0.5449 - val_loss: 0.1436 - val_accuracy: 0.5426\n",
            "Epoch 46/50\n",
            "1309/1309 [==============================] - 33s 25ms/step - loss: 0.1427 - accuracy: 0.5449 - val_loss: 0.1436 - val_accuracy: 0.5426\n",
            "Epoch 47/50\n",
            "1309/1309 [==============================] - 32s 25ms/step - loss: 0.1427 - accuracy: 0.5449 - val_loss: 0.1436 - val_accuracy: 0.5426\n",
            "Epoch 48/50\n",
            "1309/1309 [==============================] - 33s 25ms/step - loss: 0.1427 - accuracy: 0.5449 - val_loss: 0.1436 - val_accuracy: 0.5426\n",
            "Epoch 49/50\n",
            "1309/1309 [==============================] - 34s 26ms/step - loss: 0.1427 - accuracy: 0.5449 - val_loss: 0.1436 - val_accuracy: 0.5426\n",
            "Epoch 50/50\n",
            "1309/1309 [==============================] - 34s 26ms/step - loss: 0.1427 - accuracy: 0.5449 - val_loss: 0.1436 - val_accuracy: 0.5426\n"
          ]
        },
        {
          "output_type": "execute_result",
          "data": {
            "text/plain": [
              "<keras.callbacks.History at 0x7fa102016dd0>"
            ]
          },
          "metadata": {},
          "execution_count": 56
        }
      ]
    },
    {
      "cell_type": "code",
      "metadata": {
        "colab": {
          "base_uri": "https://localhost:8080/"
        },
        "id": "4KW3_g1_rn1A",
        "outputId": "2f2855cd-14c2-4793-aa9d-1b649d05fffe"
      },
      "source": [
        "score = model.evaluate(X_test, y_test, batch_size=batch_size)\n",
        "print('Test score:', score)"
      ],
      "execution_count": 57,
      "outputs": [
        {
          "output_type": "stream",
          "name": "stdout",
          "text": [
            "328/328 [==============================] - 3s 8ms/step - loss: 0.1436 - accuracy: 0.5426\n",
            "Test score: [0.14360906183719635, 0.5425541996955872]\n"
          ]
        }
      ]
    },
    {
      "cell_type": "code",
      "metadata": {
        "id": "2I9SlEN3rn1D"
      },
      "source": [
        "y_true=y_test\n",
        "y_pred=model.predict(X_test)"
      ],
      "execution_count": 58,
      "outputs": []
    },
    {
      "cell_type": "code",
      "metadata": {
        "id": "oYa7_xEUrn1L"
      },
      "source": [
        "yp = []\n",
        "for i in range(len(y_pred)):\n",
        "    yp.append(np.argmax(y_pred[i]))"
      ],
      "execution_count": 59,
      "outputs": []
    },
    {
      "cell_type": "code",
      "metadata": {
        "id": "Eh2QKXOIrn1P"
      },
      "source": [
        "yt=y_test\n",
        "yt=np.argmax(yt, axis=1)"
      ],
      "execution_count": 60,
      "outputs": []
    },
    {
      "cell_type": "code",
      "metadata": {
        "id": "tUWU3FfL3PiG"
      },
      "source": [
        "yt = np.concatenate(yt).ravel().tolist()\n"
      ],
      "execution_count": 61,
      "outputs": []
    },
    {
      "cell_type": "code",
      "metadata": {
        "colab": {
          "base_uri": "https://localhost:8080/"
        },
        "id": "XT2IV4Pwrn1R",
        "outputId": "a102f00a-f132-49f3-a1a0-cf5cae81e3fc"
      },
      "source": [
        "f1_score(yt, yp, average='macro')  "
      ],
      "execution_count": 62,
      "outputs": [
        {
          "output_type": "execute_result",
          "data": {
            "text/plain": [
              "0.06394992090700803"
            ]
          },
          "metadata": {},
          "execution_count": 62
        }
      ]
    }
  ]
}